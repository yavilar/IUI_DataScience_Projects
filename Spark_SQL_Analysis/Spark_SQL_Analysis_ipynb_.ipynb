{
  "nbformat": 4,
  "nbformat_minor": 0,
  "metadata": {
    "colab": {
      "provenance": []
    },
    "kernelspec": {
      "name": "python3",
      "display_name": "Python 3"
    },
    "language_info": {
      "name": "python"
    }
  },
  "cells": [
    {
      "cell_type": "code",
      "source": [
        "from google.colab import drive\n",
        "drive.mount('/content/drive')\n"
      ],
      "metadata": {
        "id": "HuwLxISvlPy1",
        "colab": {
          "base_uri": "https://localhost:8080/"
        },
        "outputId": "ba58aa96-a695-4d19-e305-3272f24f76eb"
      },
      "execution_count": null,
      "outputs": [
        {
          "output_type": "stream",
          "name": "stdout",
          "text": [
            "Drive already mounted at /content/drive; to attempt to forcibly remount, call drive.mount(\"/content/drive\", force_remount=True).\n"
          ]
        }
      ]
    },
    {
      "cell_type": "code",
      "source": [
        "from pyspark.sql import SparkSession\n",
        "\n",
        "spark = SparkSession.builder \\\n",
        "    .appName(\"Wildlife Trade Analysis\") \\\n",
        "    .config(\"spark.sql.repl.eagerEval.enabled\", True) \\\n",
        "    .getOrCreate()\n"
      ],
      "metadata": {
        "id": "WZG5odk8sTA6"
      },
      "execution_count": null,
      "outputs": []
    },
    {
      "cell_type": "code",
      "source": [
        "file_path = '/content/drive/MyDrive/wildlife_trade.csv'\n"
      ],
      "metadata": {
        "id": "WEwxLCWisbz6"
      },
      "execution_count": null,
      "outputs": []
    },
    {
      "cell_type": "code",
      "source": [
        "df = spark.read.csv(file_path, header=True, inferSchema=True)\n",
        "df.show(5)\n",
        "\n"
      ],
      "metadata": {
        "colab": {
          "base_uri": "https://localhost:8080/"
        },
        "id": "e-hj9oXQsebW",
        "outputId": "6590947f-939f-46e6-e556-c47c855a1e57"
      },
      "execution_count": null,
      "outputs": [
        {
          "output_type": "stream",
          "name": "stdout",
          "text": [
            "+----+----+--------------------+-----+-------------+------------+----------+---------+\n",
            "|Year|App.|               Taxon|Class|        Order|      Family|     Genus|     Term|\n",
            "+----+----+--------------------+-----+-------------+------------+----------+---------+\n",
            "|2016|   I|      Aquila heliaca| Aves|Falconiformes|Accipitridae|    Aquila|   bodies|\n",
            "|2016|   I|      Aquila heliaca| Aves|Falconiformes|Accipitridae|    Aquila|   bodies|\n",
            "|2016|   I|Haliaeetus albicilla| Aves|Falconiformes|Accipitridae|Haliaeetus| feathers|\n",
            "|2016|   I|Haliaeetus albicilla| Aves|Falconiformes|Accipitridae|Haliaeetus|specimens|\n",
            "|2016|   I|Haliaeetus albicilla| Aves|Falconiformes|Accipitridae|Haliaeetus|specimens|\n",
            "+----+----+--------------------+-----+-------------+------------+----------+---------+\n",
            "only showing top 5 rows\n",
            "\n"
          ]
        }
      ]
    },
    {
      "cell_type": "code",
      "source": [
        "df.createOrReplaceTempView(\"wildlife_trade\")\n"
      ],
      "metadata": {
        "id": "faN5-oSls8nI"
      },
      "execution_count": null,
      "outputs": []
    },
    {
      "cell_type": "markdown",
      "source": [
        "**Analyzing the dataset to identify the most frequently traded animal class.**"
      ],
      "metadata": {
        "id": "B7PQw74wtjN7"
      }
    },
    {
      "cell_type": "code",
      "source": [
        "\n",
        "spark.sql(\"\"\"\n",
        "    SELECT Class, COUNT(*) as count\n",
        "    FROM wildlife_trade\n",
        "    WHERE Class IS NOT NULL\n",
        "    GROUP BY Class\n",
        "    ORDER BY count DESC\n",
        "    LIMIT 1\n",
        "\"\"\").show()\n",
        "\n"
      ],
      "metadata": {
        "colab": {
          "base_uri": "https://localhost:8080/"
        },
        "id": "4g73BCdL4VqH",
        "outputId": "2b0485e9-c2ee-4aef-9ad9-4985cc1d1088"
      },
      "execution_count": null,
      "outputs": [
        {
          "output_type": "stream",
          "name": "stdout",
          "text": [
            "+--------+-----+\n",
            "|   Class|count|\n",
            "+--------+-----+\n",
            "|Reptilia|18430|\n",
            "+--------+-----+\n",
            "\n"
          ]
        }
      ]
    },
    {
      "cell_type": "markdown",
      "source": [
        "**Listing all the items (Term) traded that are associated with Mammals**"
      ],
      "metadata": {
        "id": "W15hfLRnjuS7"
      }
    },
    {
      "cell_type": "code",
      "source": [
        "spark.sql(\"SELECT DISTINCT Class FROM wildlife_trade\").show()"
      ],
      "metadata": {
        "colab": {
          "base_uri": "https://localhost:8080/"
        },
        "id": "hhEWaNlO5nUN",
        "outputId": "dadfc544-f46c-4120-8b70-019346a8ed55"
      },
      "execution_count": null,
      "outputs": [
        {
          "output_type": "stream",
          "name": "stdout",
          "text": [
            "+--------------+\n",
            "|         Class|\n",
            "+--------------+\n",
            "|          Aves|\n",
            "|      Bivalvia|\n",
            "|      Amphibia|\n",
            "|       Insecta|\n",
            "|      Mammalia|\n",
            "|Elasmobranchii|\n",
            "|     Arachnida|\n",
            "|    Gastropoda|\n",
            "|      Reptilia|\n",
            "|   Actinopteri|\n",
            "|      Anthozoa|\n",
            "|     Dipneusti|\n",
            "|  Hirudinoidea|\n",
            "|   Coelacanthi|\n",
            "|      Hydrozoa|\n",
            "| Holothuroidea|\n",
            "|          NULL|\n",
            "+--------------+\n",
            "\n"
          ]
        }
      ]
    },
    {
      "cell_type": "code",
      "source": [
        "items_traded_mammals = spark.sql(\"\"\"\n",
        "    SELECT DISTINCT Term\n",
        "    FROM wildlife_trade\n",
        "    WHERE Class = 'Mammalia'\n",
        "\"\"\")\n",
        "\n",
        "items_traded_mammals.show()\n"
      ],
      "metadata": {
        "colab": {
          "base_uri": "https://localhost:8080/"
        },
        "id": "gBDI8ndT5Fj1",
        "outputId": "cfb8d4d0-1656-4c07-e63d-29abab9ca6bd"
      },
      "execution_count": null,
      "outputs": [
        {
          "output_type": "stream",
          "name": "stdout",
          "text": [
            "+--------------------+\n",
            "|                Term|\n",
            "+--------------------+\n",
            "|                gall|\n",
            "|                meat|\n",
            "| fur product (small)|\n",
            "|              fibres|\n",
            "|              scales|\n",
            "|         bone pieces|\n",
            "|            garments|\n",
            "|            medicine|\n",
            "|              bodies|\n",
            "|            carvings|\n",
            "|               horns|\n",
            "|leather products ...|\n",
            "|               claws|\n",
            "|              skulls|\n",
            "|             extract|\n",
            "|               tails|\n",
            "|                hair|\n",
            "|           specimens|\n",
            "|         skin pieces|\n",
            "|         horn pieces|\n",
            "+--------------------+\n",
            "only showing top 20 rows\n",
            "\n"
          ]
        }
      ]
    },
    {
      "cell_type": "markdown",
      "source": [
        "**Identifying all species classified under CITES Appendix II.**"
      ],
      "metadata": {
        "id": "2Q0e3Dj4j4gV"
      }
    },
    {
      "cell_type": "code",
      "source": [
        "spark.sql(\"\"\"\n",
        "    SELECT DISTINCT Taxon\n",
        "    FROM wildlife_trade\n",
        "    WHERE `App.` = 'II'\n",
        "\"\"\").show()\n",
        "\n"
      ],
      "metadata": {
        "colab": {
          "base_uri": "https://localhost:8080/"
        },
        "id": "SZSP6KfLj8YQ",
        "outputId": "1086695a-b26e-420b-f940-b35e89ee7c5a"
      },
      "execution_count": null,
      "outputs": [
        {
          "output_type": "stream",
          "name": "stdout",
          "text": [
            "+--------------------+\n",
            "|               Taxon|\n",
            "+--------------------+\n",
            "|   Aquila chrysaetos|\n",
            "|     Buteo polyosoma|\n",
            "|Ferocactus chrysa...|\n",
            "|Geohintonia mexicana|\n",
            "|Melocactus broadwayi|\n",
            "|        Parodia spp.|\n",
            "|     Cebus albifrons|\n",
            "|Zygosicyos tripar...|\n",
            "|Euphorbia longifolia|\n",
            "|Cyphastrea microp...|\n",
            "|   Chalcopsitta atra|\n",
            "|Myrmecophaga trid...|\n",
            "|    Nepenthes hamata|\n",
            "|  Acianthera calypso|\n",
            "|  Aerides flabellata|\n",
            "|Bulbophyllum elon...|\n",
            "|Bulbophyllum odor...|\n",
            "|Cephalantheropsis...|\n",
            "|Dendrobium nathan...|\n",
            "|Dendrobium tanger...|\n",
            "+--------------------+\n",
            "only showing top 20 rows\n",
            "\n"
          ]
        }
      ]
    },
    {
      "cell_type": "markdown",
      "source": [
        "**Exploring trade data for 2017 to identify the top animal taxon.**\n",
        "\n"
      ],
      "metadata": {
        "id": "G7IzhtVwpUQO"
      }
    },
    {
      "cell_type": "code",
      "source": [
        "spark.sql(\"\"\"\n",
        "    SELECT Taxon, COUNT(*) AS trade_count\n",
        "    FROM wildlife_trade\n",
        "    WHERE Year = 2017\n",
        "    GROUP BY Taxon\n",
        "    ORDER BY trade_count DESC\n",
        "    LIMIT 1\n",
        "\"\"\").show()\n"
      ],
      "metadata": {
        "colab": {
          "base_uri": "https://localhost:8080/"
        },
        "id": "XGTjGeCypRsF",
        "outputId": "a3d1e5e4-9e21-439d-d88f-8fa9d6919a5c"
      },
      "execution_count": null,
      "outputs": [
        {
          "output_type": "stream",
          "name": "stdout",
          "text": [
            "+--------------------+-----------+\n",
            "|               Taxon|trade_count|\n",
            "+--------------------+-----------+\n",
            "|Alligator mississ...|         18|\n",
            "+--------------------+-----------+\n",
            "\n"
          ]
        }
      ]
    },
    {
      "cell_type": "markdown",
      "source": [
        "**Querying wildlife trade data to find the classes of animals whose trade includes teeth.**\n"
      ],
      "metadata": {
        "id": "d427fXaLpasN"
      }
    },
    {
      "cell_type": "code",
      "source": [
        "spark.sql(\"\"\"\n",
        "    SELECT DISTINCT Class\n",
        "    FROM wildlife_trade\n",
        "    WHERE Term = 'teeth'\n",
        "\"\"\").show()\n"
      ],
      "metadata": {
        "colab": {
          "base_uri": "https://localhost:8080/"
        },
        "id": "LZSVq13PpvIz",
        "outputId": "f0d69399-34c3-4cae-9b9e-11eebd27ece2"
      },
      "execution_count": null,
      "outputs": [
        {
          "output_type": "stream",
          "name": "stdout",
          "text": [
            "+--------+\n",
            "|   Class|\n",
            "+--------+\n",
            "|Mammalia|\n",
            "|Reptilia|\n",
            "+--------+\n",
            "\n"
          ]
        }
      ]
    },
    {
      "cell_type": "markdown",
      "source": [
        "\n",
        " **Identifying animal classes that are traded as live specimens.**"
      ],
      "metadata": {
        "id": "IHXe8j-YplwA"
      }
    },
    {
      "cell_type": "code",
      "source": [
        "spark.sql(\"\"\"\n",
        "    SELECT DISTINCT Class\n",
        "    FROM wildlife_trade\n",
        "    WHERE Term = 'live'\n",
        "\"\"\").show()\n"
      ],
      "metadata": {
        "colab": {
          "base_uri": "https://localhost:8080/"
        },
        "id": "L_KL2LHLqCiO",
        "outputId": "998bc1a6-c23c-4cbd-b951-49167328bd44"
      },
      "execution_count": null,
      "outputs": [
        {
          "output_type": "stream",
          "name": "stdout",
          "text": [
            "+--------------+\n",
            "|         Class|\n",
            "+--------------+\n",
            "|          Aves|\n",
            "|      Amphibia|\n",
            "|       Insecta|\n",
            "|      Mammalia|\n",
            "|Elasmobranchii|\n",
            "|     Arachnida|\n",
            "|    Gastropoda|\n",
            "|      Reptilia|\n",
            "|   Actinopteri|\n",
            "|      Anthozoa|\n",
            "|     Dipneusti|\n",
            "|  Hirudinoidea|\n",
            "|      Hydrozoa|\n",
            "|      Bivalvia|\n",
            "|          NULL|\n",
            "+--------------+\n",
            "\n"
          ]
        }
      ]
    },
    {
      "cell_type": "markdown",
      "source": [
        "   **Identifying animal classes involved in the trade of carvings.**"
      ],
      "metadata": {
        "id": "KFCp9b3BppU7"
      }
    },
    {
      "cell_type": "code",
      "source": [
        "spark.sql(\"\"\"\n",
        "    SELECT DISTINCT Class\n",
        "    FROM wildlife_trade\n",
        "    WHERE Term = 'carvings'\n",
        "\"\"\").show()\n"
      ],
      "metadata": {
        "colab": {
          "base_uri": "https://localhost:8080/"
        },
        "id": "O6NCcJVRqU7E",
        "outputId": "3ef5482d-b687-44fd-a2c3-1168bc1967c1"
      },
      "execution_count": null,
      "outputs": [
        {
          "output_type": "stream",
          "name": "stdout",
          "text": [
            "+----------+\n",
            "|     Class|\n",
            "+----------+\n",
            "|      Aves|\n",
            "|  Bivalvia|\n",
            "|  Mammalia|\n",
            "|Gastropoda|\n",
            "|  Reptilia|\n",
            "|  Anthozoa|\n",
            "|  Hydrozoa|\n",
            "|      NULL|\n",
            "+----------+\n",
            "\n"
          ]
        }
      ]
    }
  ]
}